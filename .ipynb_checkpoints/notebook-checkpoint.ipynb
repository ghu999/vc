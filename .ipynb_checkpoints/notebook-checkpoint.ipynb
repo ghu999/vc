{
 "cells": [
  {
   "cell_type": "code",
   "execution_count": 1,
   "id": "f8fd44a9-0c28-435b-bd5c-fdf23dd0b89d",
   "metadata": {},
   "outputs": [],
   "source": [
    "from conversation_highlight import (\n",
    "    ConversationHighlight,\n",
    "    plot_spectogram,\n",
    "    mp3_to_ndarray\n",
    ")\n",
    "from voice_conversion import (\n",
    "    write_all_output_voices,\n",
    "    gen_all_voices,\n",
    ")"
   ]
  },
  {
   "cell_type": "code",
   "execution_count": 2,
   "id": "4978c280-f02c-4d1a-8041-0b7cf5b76594",
   "metadata": {},
   "outputs": [],
   "source": [
    "maisha_mp3 = \"highlight_4547831.mp3\"\n",
    "maisha_nparray = mp3_to_ndarray(maisha_mp3, 16000)\n",
    "maisha = ConversationHighlight(\n",
    "    share_location=None, \n",
    "    share_text=None,\n",
    "    transformed=False, \n",
    "    auto_gen=False, \n",
    "    transcript=\"I was at Seaport a couple of days ago, and I noticed how it looks nicer. It's fancier. They're willing to do more over there for the people. And then when I come to Roxbury, Dorchester, you don't see that. So-\",\n",
    "    audio=maisha_nparray,\n",
    "    conv_rec=None, \n",
    "    sharer_iden=None,\n",
    "    og_hr=None, \n",
    "    primary_speaker_iden=None, \n",
    "    add_speaker_iden=None,\n",
    "    codes=None\n",
    ")"
   ]
  },
  {
   "cell_type": "code",
   "execution_count": 3,
   "id": "d0612b3f-89ac-44dc-84fe-eeff91038158",
   "metadata": {},
   "outputs": [
    {
     "name": "stdout",
     "output_type": "stream",
     "text": [
      "[ 0.0000000e+00  1.2732926e-11 -3.6379788e-12 ...  1.5177693e-07\n",
      " -9.0992671e-08  4.4501121e-08]\n"
     ]
    }
   ],
   "source": [
    "maisha.audio\n",
    "print(maisha_nparray)"
   ]
  },
  {
   "cell_type": "code",
   "execution_count": 4,
   "id": "f3839ce9-66e7-4914-8f46-7e070ae67449",
   "metadata": {},
   "outputs": [
    {
     "ename": "IndexError",
     "evalue": "tuple index out of range",
     "output_type": "error",
     "traceback": [
      "\u001b[0;31m---------------------------------------------------------------------------\u001b[0m",
      "\u001b[0;31mIndexError\u001b[0m                                Traceback (most recent call last)",
      "Cell \u001b[0;32mIn[4], line 1\u001b[0m\n\u001b[0;32m----> 1\u001b[0m \u001b[43mplot_spectogram\u001b[49m\u001b[43m(\u001b[49m\u001b[43mmaisha_nparray\u001b[49m\u001b[43m,\u001b[49m\u001b[43m \u001b[49m\u001b[38;5;241;43m16000\u001b[39;49m\u001b[43m)\u001b[49m\n",
      "File \u001b[0;32m~/VC Prototype/vc/conversation_highlight.py:44\u001b[0m, in \u001b[0;36mplot_spectogram\u001b[0;34m(ndarray, sr)\u001b[0m\n\u001b[1;32m     42\u001b[0m librosa\u001b[38;5;241m.\u001b[39mfeature\u001b[38;5;241m.\u001b[39mmelspectrogram(y\u001b[38;5;241m=\u001b[39mndarray, sr\u001b[38;5;241m=\u001b[39msr)\n\u001b[1;32m     43\u001b[0m plt\u001b[38;5;241m.\u001b[39mfigure(figsize\u001b[38;5;241m=\u001b[39m(\u001b[38;5;241m10\u001b[39m, \u001b[38;5;241m4\u001b[39m))\n\u001b[0;32m---> 44\u001b[0m \u001b[43mlibrosa\u001b[49m\u001b[38;5;241;43m.\u001b[39;49m\u001b[43mdisplay\u001b[49m\u001b[38;5;241;43m.\u001b[39;49m\u001b[43mspecshow\u001b[49m\u001b[43m(\u001b[49m\u001b[43mlibrosa\u001b[49m\u001b[38;5;241;43m.\u001b[39;49m\u001b[43mpower_to_db\u001b[49m\u001b[43m(\u001b[49m\u001b[43mndarray\u001b[49m\u001b[43m,\u001b[49m\u001b[43m \u001b[49m\u001b[43mref\u001b[49m\u001b[38;5;241;43m=\u001b[39;49m\u001b[43mnp\u001b[49m\u001b[38;5;241;43m.\u001b[39;49m\u001b[43mmax\u001b[49m\u001b[43m)\u001b[49m\u001b[43m,\u001b[49m\u001b[43m \u001b[49m\u001b[43my_axis\u001b[49m\u001b[38;5;241;43m=\u001b[39;49m\u001b[38;5;124;43m'\u001b[39;49m\u001b[38;5;124;43mmel\u001b[39;49m\u001b[38;5;124;43m'\u001b[39;49m\u001b[43m,\u001b[49m\u001b[43m \u001b[49m\u001b[43mfmax\u001b[49m\u001b[38;5;241;43m=\u001b[39;49m\u001b[38;5;241;43m8000\u001b[39;49m\u001b[43m,\u001b[49m\u001b[43m \u001b[49m\u001b[43mx_axis\u001b[49m\u001b[38;5;241;43m=\u001b[39;49m\u001b[38;5;124;43m'\u001b[39;49m\u001b[38;5;124;43mtime\u001b[39;49m\u001b[38;5;124;43m'\u001b[39;49m\u001b[43m)\u001b[49m\n\u001b[1;32m     45\u001b[0m plt\u001b[38;5;241m.\u001b[39mcolorbar(\u001b[38;5;28mformat\u001b[39m\u001b[38;5;241m=\u001b[39m\u001b[38;5;124m'\u001b[39m\u001b[38;5;132;01m%+2.0f\u001b[39;00m\u001b[38;5;124m dB\u001b[39m\u001b[38;5;124m'\u001b[39m)\n\u001b[1;32m     46\u001b[0m plt\u001b[38;5;241m.\u001b[39mtitle(\u001b[38;5;124m'\u001b[39m\u001b[38;5;124mMel spectrogram\u001b[39m\u001b[38;5;124m'\u001b[39m)\n",
      "File \u001b[0;32m/opt/miniconda3/envs/vc-prototype/lib/python3.10/site-packages/librosa/display.py:1204\u001b[0m, in \u001b[0;36mspecshow\u001b[0;34m(data, x_coords, y_coords, x_axis, y_axis, sr, hop_length, n_fft, win_length, fmin, fmax, tuning, bins_per_octave, key, Sa, mela, thaat, auto_aspect, htk, unicode, intervals, unison, ax, **kwargs)\u001b[0m\n\u001b[1;32m   1202\u001b[0m \u001b[38;5;66;03m# Get the x and y coordinates\u001b[39;00m\n\u001b[1;32m   1203\u001b[0m y_coords \u001b[38;5;241m=\u001b[39m __mesh_coords(y_axis, y_coords, data\u001b[38;5;241m.\u001b[39mshape[\u001b[38;5;241m0\u001b[39m], \u001b[38;5;241m*\u001b[39m\u001b[38;5;241m*\u001b[39mall_params)\n\u001b[0;32m-> 1204\u001b[0m x_coords \u001b[38;5;241m=\u001b[39m __mesh_coords(x_axis, x_coords, \u001b[43mdata\u001b[49m\u001b[38;5;241;43m.\u001b[39;49m\u001b[43mshape\u001b[49m\u001b[43m[\u001b[49m\u001b[38;5;241;43m1\u001b[39;49m\u001b[43m]\u001b[49m, \u001b[38;5;241m*\u001b[39m\u001b[38;5;241m*\u001b[39mall_params)\n\u001b[1;32m   1206\u001b[0m axes \u001b[38;5;241m=\u001b[39m __check_axes(ax)\n\u001b[1;32m   1208\u001b[0m out \u001b[38;5;241m=\u001b[39m axes\u001b[38;5;241m.\u001b[39mpcolormesh(x_coords, y_coords, data, \u001b[38;5;241m*\u001b[39m\u001b[38;5;241m*\u001b[39mkwargs)\n",
      "\u001b[0;31mIndexError\u001b[0m: tuple index out of range"
     ]
    },
    {
     "data": {
      "text/plain": [
       "<Figure size 1000x400 with 0 Axes>"
      ]
     },
     "metadata": {},
     "output_type": "display_data"
    }
   ],
   "source": [
    "plot_spectogram(maisha_mp3)"
   ]
  },
  {
   "cell_type": "code",
   "execution_count": null,
   "id": "063bc2c1-699e-4165-8103-59ca58d2d2ac",
   "metadata": {},
   "outputs": [],
   "source": []
  }
 ],
 "metadata": {
  "kernelspec": {
   "display_name": "Python 3 (ipykernel)",
   "language": "python",
   "name": "python3"
  },
  "language_info": {
   "codemirror_mode": {
    "name": "ipython",
    "version": 3
   },
   "file_extension": ".py",
   "mimetype": "text/x-python",
   "name": "python",
   "nbconvert_exporter": "python",
   "pygments_lexer": "ipython3",
   "version": "3.10.16"
  }
 },
 "nbformat": 4,
 "nbformat_minor": 5
}
